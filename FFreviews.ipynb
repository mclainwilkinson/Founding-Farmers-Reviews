{
 "cells": [
  {
   "cell_type": "markdown",
   "metadata": {},
   "source": [
    "# Exploring the Founding Farmers Review Dataset\n",
    "\n",
    "* examine nature and distributions of dataset\n",
    "* test various summarization and topic analysis tools\n",
    "* goal is to see WHAT people are talking about and HOW they view it\n",
    "* ideally, this could be generalized to work for any restaurant"
   ]
  },
  {
   "cell_type": "code",
   "execution_count": 1,
   "metadata": {},
   "outputs": [
    {
     "data": {
      "text/html": [
       "<div>\n",
       "<style>\n",
       "    .dataframe thead tr:only-child th {\n",
       "        text-align: right;\n",
       "    }\n",
       "\n",
       "    .dataframe thead th {\n",
       "        text-align: left;\n",
       "    }\n",
       "\n",
       "    .dataframe tbody tr th {\n",
       "        vertical-align: top;\n",
       "    }\n",
       "</style>\n",
       "<table border=\"1\" class=\"dataframe\">\n",
       "  <thead>\n",
       "    <tr style=\"text-align: right;\">\n",
       "      <th></th>\n",
       "      <th>date</th>\n",
       "      <th>rating</th>\n",
       "      <th>review</th>\n",
       "      <th>year</th>\n",
       "      <th>review_length</th>\n",
       "    </tr>\n",
       "  </thead>\n",
       "  <tbody>\n",
       "    <tr>\n",
       "      <th>0</th>\n",
       "      <td>2018-10-19</td>\n",
       "      <td>5.0</td>\n",
       "      <td>Came here for breakfast. I'd already been to t...</td>\n",
       "      <td>2018</td>\n",
       "      <td>189</td>\n",
       "    </tr>\n",
       "    <tr>\n",
       "      <th>1</th>\n",
       "      <td>2018-10-15</td>\n",
       "      <td>1.0</td>\n",
       "      <td>Now most might think I am overly trashing this...</td>\n",
       "      <td>2018</td>\n",
       "      <td>266</td>\n",
       "    </tr>\n",
       "    <tr>\n",
       "      <th>2</th>\n",
       "      <td>2018-10-14</td>\n",
       "      <td>5.0</td>\n",
       "      <td>I had a very pleasant experience coming to thi...</td>\n",
       "      <td>2018</td>\n",
       "      <td>185</td>\n",
       "    </tr>\n",
       "    <tr>\n",
       "      <th>3</th>\n",
       "      <td>2018-10-12</td>\n",
       "      <td>5.0</td>\n",
       "      <td>You definitely need reservations for this rest...</td>\n",
       "      <td>2018</td>\n",
       "      <td>179</td>\n",
       "    </tr>\n",
       "    <tr>\n",
       "      <th>4</th>\n",
       "      <td>2018-10-04</td>\n",
       "      <td>4.0</td>\n",
       "      <td>Loved my experience here. My boyfriend and I c...</td>\n",
       "      <td>2018</td>\n",
       "      <td>244</td>\n",
       "    </tr>\n",
       "  </tbody>\n",
       "</table>\n",
       "</div>"
      ],
      "text/plain": [
       "        date  rating                                             review  year  \\\n",
       "0 2018-10-19     5.0  Came here for breakfast. I'd already been to t...  2018   \n",
       "1 2018-10-15     1.0  Now most might think I am overly trashing this...  2018   \n",
       "2 2018-10-14     5.0  I had a very pleasant experience coming to thi...  2018   \n",
       "3 2018-10-12     5.0  You definitely need reservations for this rest...  2018   \n",
       "4 2018-10-04     4.0  Loved my experience here. My boyfriend and I c...  2018   \n",
       "\n",
       "   review_length  \n",
       "0            189  \n",
       "1            266  \n",
       "2            185  \n",
       "3            179  \n",
       "4            244  "
      ]
     },
     "execution_count": 1,
     "metadata": {},
     "output_type": "execute_result"
    }
   ],
   "source": [
    "import pandas as pd\n",
    "import matplotlib.pyplot as plt\n",
    "import seaborn as sns\n",
    "from nltk.tokenize import TreebankWordTokenizer\n",
    "from nltk import pos_tag\n",
    "from nltk.corpus import stopwords \n",
    "from nltk.stem.wordnet import WordNetLemmatizer\n",
    "import string\n",
    "\n",
    "# read in data, add useful columns to dataframe, and look at top of df\n",
    "\n",
    "df = pd.read_csv('ffreviews.csv')\n",
    "df['date'] = pd.to_datetime(df['date'])\n",
    "\n",
    "# add year columns\n",
    "year = []\n",
    "for d in df['date']:\n",
    "    year.append(d.year)\n",
    "year= pd.Series(year)\n",
    "df['year'] = year\n",
    "\n",
    "# add column for review length in number of words\n",
    "treebank_tokenizer = TreebankWordTokenizer()\n",
    "review_length = []\n",
    "for r in df['review']:\n",
    "    review_length.append(len(treebank_tokenizer.tokenize(r)))\n",
    "df['review_length'] = pd.Series(review_length)\n",
    "\n",
    "# look at head of df\n",
    "df.head()"
   ]
  },
  {
   "cell_type": "code",
   "execution_count": 2,
   "metadata": {},
   "outputs": [
    {
     "data": {
      "text/plain": [
       "(11668, 5)"
      ]
     },
     "execution_count": 2,
     "metadata": {},
     "output_type": "execute_result"
    }
   ],
   "source": [
    "df.shape\n",
    "# 11668 reviews for founding farmers"
   ]
  },
  {
   "cell_type": "code",
   "execution_count": 3,
   "metadata": {},
   "outputs": [
    {
     "data": {
      "image/png": "[encoded data removed]",
      "text/plain": [
       "<matplotlib.figure.Figure at 0x11f4d01d0>"
      ]
     },
     "metadata": {},
     "output_type": "display_data"
    }
   ],
   "source": [
    "# plot overall rating distribution\n",
    "\n",
    "sns.countplot(df['rating'])\n",
    "plt.title('Founding Farmers Rating Distribution')\n",
    "plt.show()"
   ]
  },
  {
   "cell_type": "code",
   "execution_count": 4,
   "metadata": {},
   "outputs": [
    {
     "data": {
      "image/png": "[encoded data removed]",
      "text/plain": [
       "<matplotlib.figure.Figure at 0x115088ba8>"
      ]
     },
     "metadata": {},
     "output_type": "display_data"
    }
   ],
   "source": [
    "# plot average rating given by year\n",
    "\n",
    "yearly_rate = df.groupby('year')['rating'].mean()\n",
    "yearly_rate = pd.DataFrame(yearly_rate)\n",
    "yearly_rate = yearly_rate.reset_index()\n",
    "sns.pointplot(x='year', y='rating', data=yearly_rate)\n",
    "plt.title('Founding Farmers Yearly Average Rating')\n",
    "plt.show()"
   ]
  },
  {
   "cell_type": "code",
   "execution_count": 5,
   "metadata": {},
   "outputs": [
    {
     "data": {
      "image/png": "[encoded data removed]",
      "text/plain": [
       "<matplotlib.figure.Figure at 0x1a23a5b518>"
      ]
     },
     "metadata": {},
     "output_type": "display_data"
    }
   ],
   "source": [
    "# plot distribution of review length in number of words\n",
    "\n",
    "sns.countplot(df['review_length'])\n",
    "plt.title('Review Length (# words)')\n",
    "plt.show()"
   ]
  },
  {
   "cell_type": "code",
   "execution_count": 6,
   "metadata": {},
   "outputs": [
    {
     "data": {
      "image/png": "[encoded data removed]",
      "text/plain": [
       "<matplotlib.figure.Figure at 0x1a283a8438>"
      ]
     },
     "metadata": {},
     "output_type": "display_data"
    }
   ],
   "source": [
    "# boxplots for review length by rating\n",
    "\n",
    "sns.boxplot(x='rating', y='review_length', data=df)\n",
    "plt.title('Review Length Distribution by Rating')\n",
    "plt.show()"
   ]
  },
  {
   "cell_type": "code",
   "execution_count": 7,
   "metadata": {},
   "outputs": [
    {
     "data": {
      "text/html": [
       "<div>\n",
       "<style>\n",
       "    .dataframe thead tr:only-child th {\n",
       "        text-align: right;\n",
       "    }\n",
       "\n",
       "    .dataframe thead th {\n",
       "        text-align: left;\n",
       "    }\n",
       "\n",
       "    .dataframe tbody tr th {\n",
       "        vertical-align: top;\n",
       "    }\n",
       "</style>\n",
       "<table border=\"1\" class=\"dataframe\">\n",
       "  <thead>\n",
       "    <tr style=\"text-align: right;\">\n",
       "      <th></th>\n",
       "      <th>date</th>\n",
       "      <th>rating</th>\n",
       "      <th>review</th>\n",
       "      <th>year</th>\n",
       "      <th>review_length</th>\n",
       "    </tr>\n",
       "  </thead>\n",
       "  <tbody>\n",
       "    <tr>\n",
       "      <th>2362</th>\n",
       "      <td>2014-10-11</td>\n",
       "      <td>2.0</td>\n",
       "      <td>Let me get this out of the way: the food was f...</td>\n",
       "      <td>2014</td>\n",
       "      <td>1057</td>\n",
       "    </tr>\n",
       "    <tr>\n",
       "      <th>5032</th>\n",
       "      <td>2014-11-02</td>\n",
       "      <td>3.0</td>\n",
       "      <td>I'm very conflicted about this restaurant. THE...</td>\n",
       "      <td>2014</td>\n",
       "      <td>1046</td>\n",
       "    </tr>\n",
       "    <tr>\n",
       "      <th>4028</th>\n",
       "      <td>2014-11-06</td>\n",
       "      <td>5.0</td>\n",
       "      <td>I've been to Founding Farmers three times alre...</td>\n",
       "      <td>2014</td>\n",
       "      <td>1038</td>\n",
       "    </tr>\n",
       "    <tr>\n",
       "      <th>11185</th>\n",
       "      <td>2014-07-08</td>\n",
       "      <td>2.0</td>\n",
       "      <td>Written by my husband because I can't bear to ...</td>\n",
       "      <td>2014</td>\n",
       "      <td>1036</td>\n",
       "    </tr>\n",
       "    <tr>\n",
       "      <th>7839</th>\n",
       "      <td>2014-01-09</td>\n",
       "      <td>5.0</td>\n",
       "      <td>This is by far my most favorite part of DC and...</td>\n",
       "      <td>2014</td>\n",
       "      <td>1016</td>\n",
       "    </tr>\n",
       "  </tbody>\n",
       "</table>\n",
       "</div>"
      ],
      "text/plain": [
       "            date  rating                                             review  \\\n",
       "2362  2014-10-11     2.0  Let me get this out of the way: the food was f...   \n",
       "5032  2014-11-02     3.0  I'm very conflicted about this restaurant. THE...   \n",
       "4028  2014-11-06     5.0  I've been to Founding Farmers three times alre...   \n",
       "11185 2014-07-08     2.0  Written by my husband because I can't bear to ...   \n",
       "7839  2014-01-09     5.0  This is by far my most favorite part of DC and...   \n",
       "\n",
       "       year  review_length  \n",
       "2362   2014           1057  \n",
       "5032   2014           1046  \n",
       "4028   2014           1038  \n",
       "11185  2014           1036  \n",
       "7839   2014           1016  "
      ]
     },
     "execution_count": 7,
     "metadata": {},
     "output_type": "execute_result"
    }
   ],
   "source": [
    "df.sort_values(by='review_length', ascending=False)[:5]\n",
    "# top 5 longest reviews"
   ]
  },
  {
   "cell_type": "code",
   "execution_count": 8,
   "metadata": {},
   "outputs": [
    {
     "name": "stdout",
     "output_type": "stream",
     "text": [
      "LONGEST REVIEW: 1057 WORDS\n",
      "rating: 2.0\n",
      "Let me get this out of the way: the food was fine; good, even (hence the second star).THE RESERVATION INCIDENTWe had a 6:45 reservation. We checked in at 6:35:Hostess:  \"Are all 4 of you here?\"Us: \"Actually, it will just be the 3 of us.\"Hostess: \"Okay, a party of 3. Are all 3 of you here?\"Us: \"We're all here!\"Hostess: \"Okay. Just stand right there and you'll be seated in a couple of minutes.\"We stood right in front of the hostess stand, in front of the cookbook display area, maybe 10 feet away from the two hostesses. Often we were in their direct line of sight, depending on how many people were wedged in front of us. A couple of minutes\" stretched into 10, 20, 30. At first we had no reason to complain because we had showed up 10 minutes before our reservation time. I remember thinking it was a bit misleading that she had said we would be seated \"in a couple of minutes,\" but didn't think much of it. We figured they were just behind on reservations because some of these people had already been there when we arrived. Finally, at 7:30, I saw another party of 3 get called and I was finally 100% sure that they had checked in after we did. So we went up to the desk. Us: \"Hi, I want to check on our table, because our reservation was at 6:45.\"Hostess (same as earlier): \"What's your name?\"Us: [name]Hostess: \"For 3 people?\" Us: \"Yes.\"Hostess: \"Well, you're past the grace period, so-\"Us (disbelief): \"We checked in at 6:35! We've been standing right in front of you!\"At this point, the other hostess quickly seemed to realize what had happened.  I think the one who checked us in had failed to mark us as \"here\" after amending the party size, despite telling us that we would be seated momentarily.  So the other one cut off her colleague by saying, in perhaps the phoniest tone OF ALL TIME: \"Okay, we're all ready to seat this party at table [whatever].  Enjoy!\"  Enjoy? That's it? Look, everyone makes mistakes. I know they didn't mean to forget to mark that we had arrived. But at least acknowledge the mistake and give a quick apology for making us stand there like fools for almost an hour!  OUR TABLEWe were escorted to possibly the worst table in the place. I had prepared myself for communal seating after reading reviews; fine. We were seated at three backless stumps around the corner of a rectangular table. Initially we were with a solo diner; then, a couple on a date. On each side of the table, there was a one-seat buffer between the two parties. This detail is important later!Our table was right next to the bar, a mob scene. Most of the mob desperately wanted a table and were Very Indignant at not having been seated yet. This led to a few of them interrupting our meal and asking if it was bar seating or an actual table. Well, for better or worse, it's an actual table, and unfortunately, it was ours.GENERAL SERVICEOur server was pretty abrupt. Although probably not his fault, one of the three appetizers came long before our drinks did. Then the second appetizer; later, the third. I ordered tea after dinner. The inside of the empty tea cup was caked with some sort of dirt. I removed most of it with a napkin and then lost interest. I initially planned to ask for another cup right away, but due to the events detailed below, I wanted out.DRUNK PERSON AT COMMUNAL TABLEAs described earlier, our empty seats were in demand. Near the end of our meal, a drunk and belligerent lady (who had asked about the seats earlier) took it upon herself to plop down in the middle seat of the table (with her back to us). She slammed her drink down on the table a few times. Like us, our table-mates looked uncomfortable. We are not bouncers, and no one wanted to confront this person who was not in her right mind. Engaging with her would have been a disaster.I was very curious to see how our server would handle this.  He came by, saw her, and ignored the situation a couple times.  If I wasn't about to leave, I would have asked him to deal with it. But at the end of the day, it's not just this one drunk person; it's a systemic problem. It's the restaurant's responsibility to create a proper dining environment.  If you are going to have \"communal seating,\" particularly right next next to the bar, you need to ensure your diners are not placed in these situations.It gets better. We were handling the check, and suddenly there was a bone-crushing THUD. Our drunk stowaway had fallen right out of her (our) chair/stump.  The poor guy at the other end of our table helped her up. This was our cue to leave. Our table-mates were shell-shocked and rushed out as well. So, it was all pretty hysterical, and we had some laughs.  If I had to point out the worst problem, it's likely the hostess stand. The general sense we got from them was that we should feel lucky to get any table at their Very Popular Establishment.  We were not lucky.It doesn't matter if the food is good when the service is this bad.\n"
     ]
    }
   ],
   "source": [
    "# look at text of longest review\n",
    "\n",
    "print('LONGEST REVIEW: 1057 WORDS')\n",
    "print('rating:', df.loc[2362]['rating'])\n",
    "print(df.loc[2362]['review'])"
   ]
  },
  {
   "cell_type": "code",
   "execution_count": 9,
   "metadata": {},
   "outputs": [
    {
     "name": "stdout",
     "output_type": "stream",
     "text": [
      "number of reviews with more than 40 words: 9178\n"
     ]
    }
   ],
   "source": [
    "# let's only look at reviews w more than 40 words - only ones that have substance\n",
    "\n",
    "over40 = df[df['review_length']>40]\n",
    "over40 = over40.reset_index(drop=True)\n",
    "print('number of reviews with more than 40 words:', over40.shape[0])"
   ]
  },
  {
   "cell_type": "code",
   "execution_count": 10,
   "metadata": {},
   "outputs": [
    {
     "data": {
      "image/png": "[encoded data removed]",
      "text/plain": [
       "<matplotlib.figure.Figure at 0x1a23d0df28>"
      ]
     },
     "metadata": {},
     "output_type": "display_data"
    },
    {
     "data": {
      "image/png": "[encoded data removed]",
      "text/plain": [
       "<matplotlib.figure.Figure at 0x1a23e2ad30>"
      ]
     },
     "metadata": {},
     "output_type": "display_data"
    }
   ],
   "source": [
    "# check distribution of subset of data and compare to original\n",
    "\n",
    "sns.countplot(over40['rating'])\n",
    "plt.title('Rating Distribution for Over 40 Words Long Subset')\n",
    "plt.show()\n",
    "sns.countplot(df['rating'])\n",
    "plt.title('Overall Rating Distribution')\n",
    "plt.show()"
   ]
  },
  {
   "cell_type": "markdown",
   "metadata": {},
   "source": [
    "Now that we have our subset, let's take a look at the content of reviews. I want to see what the subject matter of the reviews are to see WHAT people are talking about and HOW they feel about it. This way we can see the most talked about aspects of the restaurant. Let's use the Naive Bayes Classifier of NLTK to figure out which adjectives are most associated with positive and negative reviews. Then we can determine the nouns best associated with them to see what aspects of the restaurant people are talking about the most. "
   ]
  },
  {
   "cell_type": "code",
   "execution_count": 11,
   "metadata": {},
   "outputs": [
    {
     "name": "stdout",
     "output_type": "stream",
     "text": [
      "train on 7342 instances, test on 1836 instances\n",
      "accuracy: 0.7162309368191722\n",
      "Most Informative Features\n",
      "              silverware = True              neg : pos    =     20.2 : 1.0\n",
      "                   stale = True              neg : pos    =     20.2 : 1.0\n",
      "                mediocre = True              neg : pos    =     18.3 : 1.0\n",
      "                   worse = True              neg : pos    =     14.7 : 1.0\n",
      "                inedible = True              neg : pos    =     14.3 : 1.0\n",
      "               tasteless = True              neg : pos    =     14.2 : 1.0\n",
      "           underwhelming = True              neg : pos    =     14.0 : 1.0\n",
      "               potential = True              neg : pos    =     14.0 : 1.0\n",
      "                    poor = True              neg : pos    =     12.7 : 1.0\n",
      "               immediate = True              neg : pos    =     12.1 : 1.0\n"
     ]
    }
   ],
   "source": [
    "# build Naive Bayes Classifier and look at adjectives associated with positive and negative reviews, \n",
    "# self tagged by the rating given by the reviewer\n",
    "\n",
    "from nltk.corpus import stopwords \n",
    "from nltk import pos_tag\n",
    "from nltk.stem.wordnet import WordNetLemmatizer\n",
    "import nltk.classify.util\n",
    "from nltk.classify import NaiveBayesClassifier\n",
    "import string\n",
    "\n",
    "stop = set(stopwords.words('english'))\n",
    "exclude = set(string.punctuation) \n",
    "lemma = WordNetLemmatizer()\n",
    "adj = set(['JJ', 'JJR', 'JJS'])\n",
    "\n",
    "def review_features(review):\n",
    "    # words are the features of a review\n",
    "    stop_free = \" \".join([i for i in review.lower().split() if i not in stop])\n",
    "    punc_free = ''.join(ch for ch in stop_free if ch not in exclude)\n",
    "    normalized = \" \".join(lemma.lemmatize(word) for word in punc_free.split())\n",
    "    tokenized_review = treebank_tokenizer.tokenize(normalized)\n",
    "    adj_words = [word[0] for word in pos_tag(tokenized_review) if word[1] in adj]\n",
    "    return dict([(word, True) for word in adj_words])\n",
    "\n",
    "# positive reviews have a rating of 4 or 5 stars\n",
    "pos_reviews = list(over40[over40['rating']>3.0]['review'])\n",
    "# negative reviews have ratings of 1, 2, or 3\n",
    "neg_reviews = list(over40[over40['rating']<4.0]['review'])\n",
    "\n",
    "pos_feats = [(review_features(review), 'pos') for review in pos_reviews]\n",
    "neg_feats = [(review_features(review), 'neg') for review in neg_reviews]\n",
    "\n",
    "# 80/20 train/test split\n",
    "negcutoff = int(len(neg_feats)*4/5)\n",
    "poscutoff = int(len(pos_feats)*4/5)\n",
    " \n",
    "# create training set\n",
    "train_feats = neg_feats[:negcutoff] + pos_feats[:poscutoff]\n",
    "\n",
    "# create testing set\n",
    "test_feats = neg_feats[negcutoff:] + pos_feats[poscutoff:]\n",
    "print('train on %d instances, test on %d instances' % (len(train_feats), len(test_feats)))\n",
    " \n",
    "# train classifier\n",
    "classifier = NaiveBayesClassifier.train(train_feats)\n",
    "\n",
    "# show accuracy and best features\n",
    "print('accuracy:', nltk.classify.util.accuracy(classifier, test_feats))\n",
    "classifier.show_most_informative_features(10)"
   ]
  },
  {
   "cell_type": "markdown",
   "metadata": {},
   "source": [
    "What to do next? Modify source code function so most informative features (adjectives) are returned as a list with labels. Knowing these labels, we can figure out the nouns/subjects of what people were talking about in positive and negative reviews and map what subjects were most related to positive content and negative content. "
   ]
  },
  {
   "cell_type": "code",
   "execution_count": 12,
   "metadata": {},
   "outputs": [
    {
     "name": "stdout",
     "output_type": "stream",
     "text": [
      "positive adjectives: {'most', 'frisco', 'responsive', 'recommend', 'downside', 'knowledgable', 'incredible', 'goat', 'regret', 'vanilla', 'favorite', 'watermelon', 'impeccable', 'mixologist', 'mix', 'decadent', 'amazing', 'parmesan', 'private', 'affordable', 'cinnamon', 'tangy', 'adorable', 'bbq', 'classy', 'homemade', 'ciabatta', 'glazed', 'loved', 'scrumptious', 'window', 'phenomenal', 'urban', 'magical', 'spacious', 'complaint', 'perfect', 'choose', 'wonderful', 'lived'}\n",
      "\n",
      "negative adjectives: {'worse', 'downhill', 'frozen', 'immediate', 'unprofessional', 'poor', 'speak', 'diner', 'letdown', 'mess', 'lackluster', 'potential', 'handful', 'horrendous', 'worst', 'invited', 'uncooked', 'unsatisfied', 'eh', 'asked', 'lukewarm', 'uneven', 'stale', 'inedible', 'obnoxious', 'luke', 'silverware', 'shame', 'nasty', 'upset', 'underwhelming', 'pedestrian', 'watery', 'terrible', 'unfriendly', 'tasteless', 'soggy', 'mediocre', 'awful', 'point', 'cut', 'underwhelmed', 'rude', 'understaffed', 'etc', 'unfortunate', 'uninspired', 'excessive', 'subpar', 'wall'}\n"
     ]
    }
   ],
   "source": [
    "# get top 50 positive and top 50 negative keywords for all reviews\n",
    "\n",
    "def show_most_informative_features_in_list(classifier, n=10):\n",
    "    \"\"\"\n",
    "    Return a nested list of the \"most informative\" features \n",
    "    used by the classifier along with it's predominant labels\n",
    "    \"\"\"\n",
    "    cpdist = classifier._feature_probdist       # probability distribution for feature values given labels\n",
    "    feature_list = []\n",
    "    for (fname, fval) in classifier.most_informative_features(n):\n",
    "        def labelprob(l):\n",
    "            return cpdist[l, fname].prob(fval)\n",
    "        labels = sorted([l for l in classifier._labels if fval in cpdist[l, fname].samples()], \n",
    "                        key=labelprob)\n",
    "        feature_list.append([fname, labels[-1]])\n",
    "    return feature_list\n",
    "\n",
    "important_features = show_most_informative_features_in_list(classifier, 500)\n",
    "important_pos_features = []\n",
    "important_neg_features = []\n",
    "\n",
    "for f in important_features:\n",
    "    if f[1] == 'pos':\n",
    "        important_pos_features.append(f[0])\n",
    "    else:\n",
    "        important_neg_features.append(f[0])\n",
    "\n",
    "important_pos_features = set(important_pos_features[:50])\n",
    "important_neg_features = set(important_neg_features[:50])\n",
    "\n",
    "\n",
    "print('positive adjectives:', important_pos_features)\n",
    "print('')\n",
    "print('negative adjectives:', important_neg_features)"
   ]
  },
  {
   "cell_type": "code",
   "execution_count": 13,
   "metadata": {
    "collapsed": true
   },
   "outputs": [],
   "source": [
    "# get words surrounding the positive/negative keywords in reviews as well as # of occurrences of pos/neg terms\n",
    "# put in pos_mentions and neg_mentions\n",
    "\n",
    "pos_mentions = {pos_word:[] for pos_word in important_pos_features}\n",
    "neg_mentions = {neg_word:[] for neg_word in important_neg_features}\n",
    "\n",
    "for review in over40['review']:\n",
    "    tokenized_review = treebank_tokenizer.tokenize(review)\n",
    "    for token in tokenized_review:\n",
    "        if token in important_pos_features:\n",
    "            position = tokenized_review.index(token)\n",
    "            pos_mentions[token].append(' '.join(tokenized_review[position-4:position+5]))\n",
    "        elif token in important_neg_features:\n",
    "            position = tokenized_review.index(token)\n",
    "            neg_mentions[token].append(' '.join(tokenized_review[position-4:position+5]))"
   ]
  },
  {
   "cell_type": "code",
   "execution_count": 14,
   "metadata": {},
   "outputs": [
    {
     "name": "stdout",
     "output_type": "stream",
     "text": [
      "positive adjective counts\n",
      "(1396, 'recommend')\n",
      "(1269, 'amazing')\n",
      "(831, 'favorite')\n",
      "(816, 'most')\n",
      "(748, 'loved')\n",
      "(611, 'perfect')\n",
      "(398, 'goat')\n",
      "(358, 'wonderful')\n",
      "(345, 'homemade')\n",
      "(186, 'vanilla')\n",
      "(154, 'complaint')\n",
      "(149, 'choose')\n",
      "(146, 'mix')\n",
      "(140, 'lived')\n",
      "(135, 'incredible')\n",
      "(109, 'cinnamon')\n",
      "(90, 'watermelon')\n",
      "(84, 'phenomenal')\n",
      "(80, 'ciabatta')\n",
      "(67, 'regret')\n",
      "(66, 'glazed')\n",
      "(60, 'affordable')\n",
      "(49, 'downside')\n",
      "(45, 'tangy')\n",
      "(38, 'knowledgable')\n",
      "(38, 'classy')\n",
      "(36, 'window')\n",
      "(32, 'scrumptious')\n",
      "(32, 'decadent')\n",
      "(31, 'spacious')\n",
      "(25, 'bbq')\n",
      "(23, 'mixologist')\n",
      "(23, 'impeccable')\n",
      "(20, 'adorable')\n",
      "(17, 'private')\n",
      "(15, 'magical')\n",
      "(14, 'urban')\n",
      "(14, 'parmesan')\n",
      "(12, 'responsive')\n",
      "(6, 'frisco')\n",
      "--------------------------------------\n",
      "negative adjective counts\n",
      "(884, 'asked')\n",
      "(372, 'point')\n",
      "(247, 'cut')\n",
      "(166, 'mediocre')\n",
      "(129, 'poor')\n",
      "(121, 'rude')\n",
      "(113, 'terrible')\n",
      "(101, 'worst')\n",
      "(89, 'speak')\n",
      "(69, 'etc')\n",
      "(64, 'diner')\n",
      "(60, 'mess')\n",
      "(58, 'soggy')\n",
      "(56, 'awful')\n",
      "(55, 'silverware')\n",
      "(44, 'lukewarm')\n",
      "(42, 'worse')\n",
      "(41, 'watery')\n",
      "(41, 'invited')\n",
      "(40, 'underwhelmed')\n",
      "(35, 'tasteless')\n",
      "(33, 'shame')\n",
      "(30, 'upset')\n",
      "(30, 'underwhelming')\n",
      "(30, 'frozen')\n",
      "(29, 'lackluster')\n",
      "(28, 'wall')\n",
      "(24, 'potential')\n",
      "(22, 'unfortunate')\n",
      "(22, 'downhill')\n",
      "(20, 'subpar')\n",
      "(20, 'luke')\n",
      "(19, 'handful')\n",
      "(18, 'stale')\n",
      "(18, 'eh')\n",
      "(16, 'inedible')\n",
      "(13, 'uncooked')\n",
      "(12, 'nasty')\n",
      "(11, 'immediate')\n",
      "(9, 'unsatisfied')\n",
      "(9, 'uninspired')\n",
      "(9, 'excessive')\n",
      "(8, 'uneven')\n",
      "(8, 'horrendous')\n",
      "(7, 'unfriendly')\n",
      "(6, 'obnoxious')\n",
      "(4, 'understaffed')\n",
      "(4, 'letdown')\n",
      "(3, 'unprofessional')\n",
      "(3, 'pedestrian')\n"
     ]
    }
   ],
   "source": [
    "# print sorted list of keywords and number of times occurred for pos and neg terms\n",
    "\n",
    "num_pos = {}\n",
    "for p in pos_mentions:\n",
    "    num_pos[p] = len(pos_mentions[p])\n",
    "pos_terms = sorted((value, key) for (key, value) in num_pos.items())[::-1]\n",
    "num_neg = {}\n",
    "for n in neg_mentions:\n",
    "    num_neg[n] = len(neg_mentions[n])\n",
    "neg_terms = sorted((value, key) for (key, value) in num_neg.items())[::-1]\n",
    "print('positive adjective counts')\n",
    "for p in pos_terms:\n",
    "    print(p)\n",
    "print('--------------------------------------')\n",
    "print('negative adjective counts')\n",
    "for n in neg_terms:\n",
    "    print(n)"
   ]
  },
  {
   "cell_type": "code",
   "execution_count": 24,
   "metadata": {},
   "outputs": [
    {
     "name": "stdout",
     "output_type": "stream",
     "text": [
      "positive adjectives and top 3 mentioned associated nouns\n",
      "most [(46, 'restaurants'), (39, 'part'), (31, 'restaurant')]\n",
      "frisco [(5, 'burger'), (4, 'frisco'), (1, 'steak')]\n",
      "responsive [(3, 'management'), (1, 'waitress'), (1, 'superb')]\n",
      "recommend [(162, 'place'), (97, 'reservation'), (87, 'anyone')]\n",
      "downside [(47, 'downside'), (5, 'place'), (3, 'reservation')]\n",
      "knowledgable [(9, 'menu'), (6, 'staff'), (4, 'server')]\n",
      "incredible [(15, 'food'), (9, 'service'), (7, 'menu')]\n",
      "goat [(382, 'goat'), (288, 'cheese'), (96, 'ravioli')]\n",
      "regret [(9, 'regret'), (3, 'it.'), (2, 'sweet')]\n",
      "vanilla [(183, 'vanilla'), (63, 'ice'), (58, 'cream')]\n",
      "favorite [(131, 'favorite'), (81, 'restaurants'), (51, 'restaurant')]\n",
      "watermelon [(87, 'watermelon'), (44, 'mint'), (31, 'side')]\n",
      "impeccable [(12, 'service'), (6, 'food'), (3, 'everything')]\n",
      "mixologist [(21, 'mixologist'), (2, 'star'), (2, 'cocktail')]\n",
      "mix [(130, 'mix'), (10, 'sweet'), (5, 'greens')]\n",
      "decadent [(13, 'decadent'), (2, 'toast'), (2, 'something')]\n",
      "amazing [(162, 'food'), (46, 'amazing'), (45, 'chicken')]\n",
      "parmesan [(7, 'cheese'), (5, 'almonds'), (3, 'parmesan')]\n",
      "private [(3, 'tables'), (3, 'table'), (2, 'upstairs')]\n",
      "affordable [(9, 'food'), (6, 'prices'), (5, 'place')]\n",
      "cinnamon [(85, 'cinnamon'), (27, 'maple'), (26, 'syrup')]\n",
      "tangy [(24, 'tangy'), (5, 'sweet'), (5, 'flavor')]\n",
      "adorable [(3, 'milk'), (3, 'decor'), (2, 'waitress')]\n",
      "bbq [(21, 'bbq'), (6, 'chicken'), (5, 'sauce')]\n",
      "classy [(10, 'classy'), (4, 'place'), (3, 'restaurant')]\n",
      "homemade [(246, 'homemade'), (28, 'pasta'), (23, 'ice')]\n",
      "ciabatta [(74, 'ciabatta'), (22, 'bread'), (7, 'sausage')]\n",
      "glazed [(26, 'bacon'), (10, 'salmon'), (7, 'lollis')]\n",
      "loved [(40, 'food'), (34, 'it.'), (32, 'chicken')]\n",
      "scrumptious [(4, 'food'), (2, 'atmosphere'), (1, 'well.')]\n",
      "window [(34, 'window'), (5, 'table'), (4, 'seat')]\n",
      "phenomenal [(13, 'food'), (9, 'service'), (4, 'drinks')]\n",
      "urban [(2, 'restaurant'), (2, 'farm'), (1, 'type')]\n",
      "magical [(2, 'something'), (2, 'kind'), (1, 'way')]\n",
      "spacious [(9, 'restaurant'), (3, 'seating'), (3, 'area')]\n",
      "complaint [(150, 'complaint'), (8, 'service'), (5, 'wait')]\n",
      "perfect [(40, 'perfect'), (29, 'amount'), (20, 'sweet')]\n",
      "choose [(14, 'from.'), (11, 'options'), (6, 'something')]\n",
      "wonderful [(27, 'food'), (20, 'service'), (18, 'experience')]\n",
      "lived [(20, 'hype'), (13, 'area'), (7, 'restaurant')]\n",
      "----------------------------------------------------------------------------------------\n",
      "negative adjectives and top 3 mentioned associated nouns\n",
      "worse [(6, 'service'), (3, 'food'), (2, 'things')]\n",
      "downhill [(11, 'downhill'), (4, 'there.'), (2, 'service')]\n",
      "frozen [(9, 'chicken'), (3, 'pot'), (2, 'waffle')]\n",
      "immediate [(2, 'waitress'), (2, 'area'), (1, 'waiter')]\n",
      "unprofessional [(1, 'table'), (1, 'minutes'), (1, 'kind')]\n",
      "poor [(40, 'service'), (12, 'food'), (9, 'service.')]\n",
      "speak [(15, 'manager'), (11, 'manager.'), (6, 'speak')]\n",
      "diner [(61, 'diner'), (8, 'food'), (4, 'breakfast')]\n",
      "letdown [(3, 'letdown'), (1, 'place'), (1, 'nothing')]\n",
      "mess [(29, 'mess'), (2, 'plate'), (2, 'people')]\n",
      "lackluster [(7, 'service'), (3, 'lackluster'), (3, 'brunch')]\n",
      "potential [(6, 'place'), (5, 'lot'), (4, 'potential')]\n",
      "handful [(19, 'handful'), (6, 'times'), (1, 'veggies')]\n",
      "horrendous [(1, 'times'), (1, 'service.It'), (1, 'service')]\n",
      "worst [(11, 'part'), (10, 'experience'), (6, 'service')]\n",
      "invited [(3, 'management'), (2, 'someone'), (2, 'friends')]\n",
      "uncooked [(3, 'scoop'), (3, 'eggs'), (1, 'tomatoes')]\n",
      "unsatisfied [(2, 'customers'), (1, 'starving'), (1, 'meal')]\n",
      "eh [(9, 'eh'), (3, 'service'), (2, 'ate.')]\n",
      "asked [(37, 'waiter'), (36, 'server'), (36, 'hostess')]\n",
      "lukewarm [(13, 'lukewarm'), (4, 'best.'), (3, 'food')]\n",
      "uneven [(2, 'temperatures'), (2, 'meat'), (1, 'times')]\n",
      "stale [(5, 'stale'), (2, 'bread'), (2, 'bit')]\n",
      "inedible [(1, 'waits'), (1, 'veggie'), (1, 'slurry')]\n",
      "obnoxious [(1, 'time'), (1, 'there.'), (1, 'table')]\n",
      "luke [(12, 'warm'), (3, 'warm.'), (2, 'food')]\n",
      "silverware [(50, 'silverware'), (5, 'plates'), (4, 'food')]\n",
      "shame [(29, 'shame'), (5, 'food'), (3, 'you.')]\n",
      "nasty [(2, 'food'), (2, 'eggs'), (1, 'tasting')]\n",
      "upset [(4, 'upset'), (3, 'server'), (3, 'face.')]\n",
      "underwhelming [(5, 'underwhelming'), (5, 'food'), (3, 'experience')]\n",
      "pedestrian [(1, 'portion'), (1, 'macaroni'), (1, 'everything')]\n",
      "watery [(26, 'watery'), (4, 'syrup'), (3, 'chicken')]\n",
      "terrible [(24, 'service'), (11, 'food'), (6, 'time')]\n",
      "unfriendly [(1, 'stars'), (1, 'staff'), (1, 'server')]\n",
      "tasteless [(3, 'waffle'), (3, 'tasteless'), (3, 'sausage')]\n",
      "soggy [(5, 'soggy'), (4, 'waffle'), (3, 'waffles')]\n",
      "mediocre [(67, 'mediocre'), (45, 'food'), (28, 'service')]\n",
      "awful [(10, 'service'), (9, 'food'), (4, 'wait')]\n",
      "point [(348, 'point'), (24, 'price'), (11, 'reservation')]\n",
      "cut [(141, 'cut'), (59, 'bacon'), (9, 'side')]\n",
      "underwhelmed [(3, 'place.'), (2, 'temperature.'), (2, 'special.')]\n",
      "rude [(38, 'rude'), (9, 'waitress'), (8, 'hostess')]\n",
      "understaffed [(1, 'pressure'), (1, 'day'), (1, 'bar')]\n",
      "etc [(20, 'etc'), (5, 'food'), (4, 'drinks')]\n",
      "unfortunate [(2, 'experience'), (1, 'well.'), (1, 'way.')]\n",
      "uninspired [(3, 'food'), (2, 'menu'), (1, 'wine')]\n",
      "excessive [(2, 'word'), (2, 'excessive'), (1, 'wait')]\n",
      "subpar [(6, 'subpar'), (6, 'service'), (3, 'food')]\n",
      "wall [(27, 'wall'), (2, 'writings'), (2, 'windows')]\n"
     ]
    }
   ],
   "source": [
    "# from words surrounding keywords, get nouns associated with keywords\n",
    "# print keyword and top 3 mentioned nouns associated with keyword\n",
    "\n",
    "pos_item_dict = {}\n",
    "print('positive adjectives and top 3 mentioned associated nouns')\n",
    "for pos_word in important_pos_features:\n",
    "    positive = pos_mentions[pos_word]\n",
    "    positive_pos = [pos_tag(treebank_tokenizer.tokenize(words)) for words in positive]\n",
    "    nouns = set(['NN', 'NNS'])\n",
    "    pos_nouns = {}\n",
    "    for s in positive_pos:\n",
    "        for w in s:\n",
    "            if w[1] in nouns:\n",
    "                if w[0] not in pos_nouns:\n",
    "                    pos_nouns[w[0]] = 1\n",
    "                else:\n",
    "                    pos_nouns[w[0]] += 1\n",
    "    pos_item_dict[pos_word] = pos_nouns\n",
    "    print(pos_word, sorted((value,key) for (key,value) in pos_nouns.items())[::-1][:3])\n",
    "print('----------------------------------------------------------------------------------------')\n",
    "neg_item_dict = {}\n",
    "print('negative adjectives and top 3 mentioned associated nouns')\n",
    "for neg_word in important_neg_features:\n",
    "    underwhelming = neg_mentions[neg_word]\n",
    "    negative_pos = [pos_tag(treebank_tokenizer.tokenize(words)) for words in underwhelming]\n",
    "    nouns = set(['NN', 'NNS'])\n",
    "    under_nouns = {}\n",
    "    for s in negative_pos:\n",
    "        for w in s:\n",
    "            if w[1] in nouns:\n",
    "                if w[0] not in under_nouns:\n",
    "                    under_nouns[w[0]] = 1\n",
    "                else:\n",
    "                    under_nouns[w[0]] += 1\n",
    "    neg_item_dict[neg_word] = under_nouns\n",
    "    print(neg_word, sorted((value,key) for (key,value) in under_nouns.items())[::-1][:3])"
   ]
  },
  {
   "cell_type": "code",
   "execution_count": 16,
   "metadata": {},
   "outputs": [
    {
     "name": "stdout",
     "output_type": "stream",
     "text": [
      "negative items/aspects and relevancy score\n",
      "(-354, 'point')\n",
      "(-165, 'service')\n",
      "(-163, 'food')\n",
      "(-141, 'cut')\n",
      "(-76, 'bacon')\n",
      "(-76, 'mediocre')\n",
      "(-69, 'server')\n",
      "(-63, 'diner')\n",
      "(-55, 'silverware')\n",
      "(-55, 'waiter')\n",
      "(-53, 'hostess')\n",
      "(-46, 'waitress')\n",
      "(-41, 'experience')\n",
      "(-40, 'chicken')\n",
      "(-40, 'rude')\n",
      "(-38, 'restaurant')\n",
      "(-36, 'table')\n",
      "(-35, 'place')\n",
      "(-34, 'time')\n",
      "(-31, 'drinks')\n"
     ]
    }
   ],
   "source": [
    "# aggregate number of negative mentions by item and negate the score, returning most negative 20 items\n",
    "\n",
    "neg_stuff = {}\n",
    "for item in neg_item_dict:\n",
    "    for k in neg_item_dict[item]:\n",
    "        if k not in neg_stuff:\n",
    "            neg_stuff[k] = neg_item_dict[item][k]\n",
    "        else:\n",
    "            neg_stuff[k] += neg_item_dict[item][k]\n",
    "            \n",
    "negatives = sorted((-value, key) for (key, value) in neg_stuff.items() if value > 10)[:20]\n",
    "print('negative items/aspects and relevancy score')\n",
    "for n in negatives:\n",
    "    print(n)"
   ]
  },
  {
   "cell_type": "code",
   "execution_count": 17,
   "metadata": {},
   "outputs": [
    {
     "name": "stdout",
     "output_type": "stream",
     "text": [
      "positive items/aspects and relevancy score\n",
      "(408, 'goat')\n",
      "(395, 'food')\n",
      "(376, 'cheese')\n",
      "(332, 'place')\n",
      "(269, 'homemade')\n",
      "(224, 'chicken')\n",
      "(205, 'restaurant')\n",
      "(198, 'vanilla')\n",
      "(153, 'complaint')\n",
      "(150, 'service')\n",
      "(140, 'mix')\n",
      "(135, 'restaurants')\n",
      "(135, 'favorite')\n",
      "(122, 'menu')\n",
      "(118, 'ravioli')\n",
      "(118, 'bread')\n",
      "(117, 'reservation')\n",
      "(107, 'meal')\n",
      "(105, 'waffles')\n",
      "(100, 'brunch')\n"
     ]
    }
   ],
   "source": [
    "# aggregate number of positive mentions by item and sort by number of mentions, returning the top 20 items\n",
    "\n",
    "pos_stuff = {}\n",
    "for item in pos_item_dict:\n",
    "    for k in pos_item_dict[item]:\n",
    "        if k not in pos_stuff:\n",
    "            pos_stuff[k] = pos_item_dict[item][k]\n",
    "        else:\n",
    "            pos_stuff[k] += pos_item_dict[item][k]\n",
    "            \n",
    "positives = sorted((value, key) for (key, value) in pos_stuff.items() if value > 10)[::-1][:20]\n",
    "print('positive items/aspects and relevancy score')\n",
    "for p in positives:\n",
    "    print(p)"
   ]
  },
  {
   "cell_type": "code",
   "execution_count": 18,
   "metadata": {},
   "outputs": [
    {
     "name": "stdout",
     "output_type": "stream",
     "text": [
      "contentious items: {'service', 'restaurant', 'chicken', 'food', 'place'}\n"
     ]
    }
   ],
   "source": [
    "# get overlap for positive and negative list, just curious\n",
    "\n",
    "negs = set([n[1] for n in negatives])\n",
    "poss = set([p[1] for p in positives])\n",
    "contentious = negs.intersection(poss)\n",
    "print('contentious items:', contentious)"
   ]
  },
  {
   "cell_type": "markdown",
   "metadata": {},
   "source": [
    "Create a \"chart\" for all of these items showing net plus's and minus's. The highest positively mentioned items will have a very high score, and ones mentioned on both lists will have the net score (pos - neg) in the direction of whichever is larger."
   ]
  },
  {
   "cell_type": "code",
   "execution_count": 19,
   "metadata": {
    "collapsed": true
   },
   "outputs": [],
   "source": [
    "item_dict = {}\n",
    "items = positives + negatives\n",
    "for i in items:\n",
    "    if i[1] not in item_dict:\n",
    "        item_dict[i[1]] = i[0]\n",
    "    else:\n",
    "        item_dict[i[1]] = item_dict[i[1]] + i[0]\n",
    "\n",
    "item_ratings = pd.Series(item_dict)\n",
    "item_ratings = pd.DataFrame(item_ratings)\n",
    "item_ratings['rating'] = item_ratings[0]\n",
    "item_ratings = item_ratings.drop([0], axis=1)\n",
    "item_ratings = item_ratings.sort_values(by='rating')"
   ]
  },
  {
   "cell_type": "code",
   "execution_count": 20,
   "metadata": {},
   "outputs": [
    {
     "data": {
      "image/png": "[encoded data removed]",
      "text/plain": [
       "<matplotlib.figure.Figure at 0x1a28959390>"
      ]
     },
     "metadata": {},
     "output_type": "display_data"
    }
   ],
   "source": [
    "sns.barplot(x=item_ratings.index, y='rating', data=item_ratings)\n",
    "plt.xticks(rotation=90)\n",
    "plt.title('favorability of restaurant items and attributes')\n",
    "plt.xlabel('restaurant item/rating')\n",
    "plt.ylabel('favorability')\n",
    "plt.show()"
   ]
  },
  {
   "cell_type": "markdown",
   "metadata": {},
   "source": [
    "This is a great initial approach, but it has many problems. \"Items\" mentioned are often just longer than a single word. \"Chicken\" is not very descriptive, there may be many chicken dishes on the menu. This tool said that \"goat\" was the most positive item, but I doubt there is a single item on the menu that is a goat dish. I think this actually refers to goat cheese ravioli, and each word (\"goat\", \"cheese\", and \"ravioli\") performed well. So I should look at bigrams? This can cause a big pain as well. I would have to make a system to recognize if the noun can be just 1 word or requires more to describe it. Dishes are also referred to in very different ways. I have no idea how to create a uniform way to represent \"macaroni and cheese.\" Many people talked about it, but lots of typos and differences in descriptions. General words such as \"experience\" are also not helpful, I want specific aspects to be returned. The POS tagger also returned many adjectives instead of nouns, i.e. the word \"homemade\" is not helpful either. I am a slave to the POS tagger for this type of analysis; it can be very hard to work around its shortcomings."
   ]
  },
  {
   "cell_type": "code",
   "execution_count": null,
   "metadata": {
    "collapsed": true
   },
   "outputs": [],
   "source": []
  }
 ],
 "metadata": {
  "kernelspec": {
   "display_name": "Python 3",
   "language": "python",
   "name": "python3"
  },
  "language_info": {
   "codemirror_mode": {
    "name": "ipython",
    "version": 3
   },
   "file_extension": ".py",
   "mimetype": "text/x-python",
   "name": "python",
   "nbconvert_exporter": "python",
   "pygments_lexer": "ipython3",
   "version": "3.6.1"
  }
 },
 "nbformat": 4,
 "nbformat_minor": 2
}
